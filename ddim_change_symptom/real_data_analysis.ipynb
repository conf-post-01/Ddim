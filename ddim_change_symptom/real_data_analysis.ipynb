{
 "cells": [
  {
   "cell_type": "code",
   "execution_count": null,
   "metadata": {},
   "outputs": [],
   "source": [
    "import os\n",
    "import sys\n",
    "import time\n",
    "import itertools\n",
    "from datetime import datetime as dt\n",
    "from datetime import timedelta\n",
    "import matplotlib.pyplot as plt\n",
    "\n",
    "import numpy as np\n",
    "import pandas as pd\n",
    "\n",
    "import importlib\n",
    "path = os.path.join(os.path.dirname('.'), '../')\n",
    "sys.path.append(path)\n",
    "import ddim_change_symptom.ddim_simulation_real_data as dsimRD\n",
    "importlib.reload(dsimRD)\n"
   ]
  },
  {
   "cell_type": "code",
   "execution_count": null,
   "metadata": {
    "scrolled": false
   },
   "outputs": [],
   "source": [
    "### market dataset\n",
    "dsimRD_obj = dsimRD.simDdimRealData(data_file='amount_data_market.json',conf_file='ddim_paramset_market.json',temp_beta=0.05)\n",
    "\n",
    "### household dataset\n",
    "# dsimRD_obj = dsimRD.simDdimRealData(data_file='amount_data_household.json',conf_file='ddim_paramset_household.json',temp_beta=0.05)\n",
    "\n",
    "dsimRD_obj.simulate_algorithm_to_dataset()\n"
   ]
  },
  {
   "cell_type": "code",
   "execution_count": null,
   "metadata": {},
   "outputs": [],
   "source": [
    "### market dataset\n",
    "# dsimRD_obj.create_graph(initial_period=14,ts_ind=None,c_ind_th=None,c_ind_diff=None,fs_flg=True,tofile=True,file_format='png')\n",
    "dsimRD_obj.create_graph(initial_period=14,ts_ind=list(range(0,22)),c_ind_th=[11],c_ind_diff=[11],fs_flg=False,tofile=True,file_format='png')\n",
    "\n",
    "### household data\n",
    "# dsimRD_obj.create_graph(initial_period=0,ts_ind=[18,19,20,21,22,23],c_ind_th=[20],c_ind_diff=[20],fs_flg=False,tofile=True,file_format='png')\n"
   ]
  },
  {
   "cell_type": "code",
   "execution_count": null,
   "metadata": {
    "collapsed": true
   },
   "outputs": [],
   "source": []
  },
  {
   "cell_type": "code",
   "execution_count": null,
   "metadata": {
    "collapsed": true
   },
   "outputs": [],
   "source": []
  }
 ],
 "metadata": {
  "kernelspec": {
   "display_name": "Python 3",
   "language": "python",
   "name": "python3"
  },
  "language_info": {
   "codemirror_mode": {
    "name": "ipython",
    "version": 3
   },
   "file_extension": ".py",
   "mimetype": "text/x-python",
   "name": "python",
   "nbconvert_exporter": "python",
   "pygments_lexer": "ipython3",
   "version": "3.6.1"
  }
 },
 "nbformat": 4,
 "nbformat_minor": 2
}
