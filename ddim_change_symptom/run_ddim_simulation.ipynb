{
 "cells": [
  {
   "cell_type": "code",
   "execution_count": null,
   "metadata": {
    "collapsed": true
   },
   "outputs": [],
   "source": [
    "import pandas as pd\n",
    "import numpy as np\n",
    "import random\n",
    "import itertools\n",
    "\n",
    "import os\n",
    "import json\n",
    "import copy\n",
    "import time\n",
    "import matplotlib.pyplot as plt\n",
    "from datetime import datetime as dt\n",
    "\n",
    "import importlib\n",
    "import gmm_generator as gg\n",
    "import ts_clustering as tc\n",
    "import dynamic_model_selection as dms\n",
    "import descriptional_dimension as ddim\n",
    "import ddim_change_symptom.ddim_simulation as simDdim\n",
    "import fixed_share as fs\n",
    "from IPython.display import display\n"
   ]
  },
  {
   "cell_type": "markdown",
   "metadata": {},
   "source": [
    "## single change"
   ]
  },
  {
   "cell_type": "code",
   "execution_count": null,
   "metadata": {
    "scrolled": false
   },
   "outputs": [],
   "source": [
    "%%time\n",
    "\n",
    "alpha_list = [0.2,0.5,1.0,2.0]\n",
    "# alpha_list = [1.0]\n",
    "num_sim = 10\n",
    "eval_list = ['benefit_diff','benefit_th','benefit_sdms','benefit_fs','benefit_ws_fs','benefit_ws_fs_th',\n",
    "                    'delay_diff','delay_th','delay_sdms','delay_fs','delay_ws_fs','delay_ws_fs_th']\n",
    "\n",
    "eval_list.append('alpha')\n",
    "\n",
    "res = pd.DataFrame([],columns=eval_list)\n",
    "for a in alpha_list:\n",
    "    for i in range(num_sim):\n",
    "        res_tmp = pd.DataFrame(np.zeros((1,len(eval_list))),columns=eval_list)\n",
    "        res_tmp['alpha'] = a\n",
    "        sim_obj = simDdim.simDdim(alpha=a,random_state=i,conf_file='ddim_paramset_single.json',c_pattern='single')\n",
    "        sim_obj.simulate_algorithm()\n",
    "        for k,v in sim_obj.out['result']['evaluation'].items():\n",
    "            if k in eval_list:\n",
    "                res_tmp.loc[0,k] = v[0]\n",
    "        \n",
    "        res = pd.concat([res,res_tmp],axis=0)\n",
    "            \n",
    "        if i == 0:\n",
    "            sim_obj.create_graph(type_name='single',tofile=True,file_format='png')\n",
    "    \n",
    "display(res)\n"
   ]
  },
  {
   "cell_type": "markdown",
   "metadata": {},
   "source": [
    "## multiple change"
   ]
  },
  {
   "cell_type": "code",
   "execution_count": null,
   "metadata": {
    "scrolled": false
   },
   "outputs": [],
   "source": [
    "%%time\n",
    "\n",
    "alpha_list = [0.2,0.5,1.0,2.0]\n",
    "# alpha_list = [1.0]\n",
    "num_sim = 10\n",
    "eval_list = ['benefit_diff','benefit_diff_2','benefit_th','benefit_th_2','benefit_sdms','benefit_sdms_2',\n",
    "                    'benefit_fs','benefit_fs_2','benefit_ws_fs','benefit_ws_fs_2','benefit_ws_fs_th','benefit_ws_fs_th_2',\n",
    "                    'delay_diff','delay_diff_2','delay_th','delay_th_2','delay_sdms','delay_sdms_2',\n",
    "                    'delay_fs','delay_fs_2','delay_ws_fs','delay_ws_fs_2','delay_ws_fs_th','delay_ws_fs_th_2']\n",
    "\n",
    "eval_list.append('alpha')\n",
    "\n",
    "res_multi = pd.DataFrame([],columns=eval_list)\n",
    "for a in alpha_list:\n",
    "    for i in range(num_sim):\n",
    "        res_tmp = pd.DataFrame(np.zeros((1,len(eval_list))),columns=eval_list)\n",
    "        res_tmp['alpha'] = a\n",
    "        sim_obj = simDdim.simDdim(alpha=a,random_state=i,conf_file='ddim_paramset_multi.json',c_pattern='multi')\n",
    "        sim_obj.simulate_algorithm()\n",
    "        for k,v in sim_obj.out['result']['evaluation'].items():\n",
    "            if k in eval_list:\n",
    "                res_tmp.loc[0,k] = v[0]\n",
    "                res_tmp.loc[0,'%s_2'%k] = v[1]\n",
    "        \n",
    "        res_multi = pd.concat([res_multi,res_tmp],axis=0)\n",
    "            \n",
    "        if i == 0:\n",
    "            sim_obj.create_graph(type_name='multi',tofile=True,file_format='png')\n",
    "    \n",
    "display(res_multi)\n"
   ]
  },
  {
   "cell_type": "code",
   "execution_count": null,
   "metadata": {},
   "outputs": [],
   "source": [
    "eval_list = ['benefit_diff','benefit_th','benefit_sdms','benefit_fs','benefit_ws_fs','benefit_ws_fs_th',\n",
    "                    'delay_diff','delay_th','delay_sdms','delay_fs','delay_ws_fs','delay_ws_fs_th']\n",
    "display(\n",
    "    res.groupby('alpha')[eval_list].mean().reset_index()\n",
    ")\n",
    "eval_multi_list = ['benefit_diff','benefit_diff_2','benefit_th','benefit_th_2','benefit_sdms','benefit_sdms_2',\n",
    "                                'benefit_fs','benefit_fs_2','benefit_ws_fs','benefit_ws_fs_2','benefit_ws_fs_th','benefit_ws_fs_th_2',\n",
    "                                'delay_diff','delay_diff_2','delay_th','delay_th_2','delay_sdms','delay_sdms_2',\n",
    "                                'delay_fs','delay_fs_2','delay_ws_fs','delay_ws_fs_2','delay_ws_fs_th','delay_ws_fs_th_2']\n",
    "display(\n",
    "    res_multi.groupby('alpha')[eval_multi_list].mean().reset_index()\n",
    ")\n"
   ]
  },
  {
   "cell_type": "code",
   "execution_count": null,
   "metadata": {
    "collapsed": true
   },
   "outputs": [],
   "source": [
    "\n",
    "now_time = dt.now()\n",
    "now_str = now_time.strftime(\"%Y%m%d-%H%M%S\")\n",
    "date_str = now_time.strftime(\"%Y%m%d\")\n",
    "\n",
    "res.to_csv('./data/out/ddim_single_%s/ddim_single_benefit_%s.csv'%(date_str,now_str))\n",
    "res_multi.to_csv('./data/out/ddim_multi_%s/ddim_multi_benefit_%s.csv'%(date_str,now_str))\n",
    "\n",
    "res.groupby('alpha')[eval_list].mean().reset_index().to_csv('./data/out/ddim_single_%s/ddim_single_benefit_summary_%s.csv'%(date_str,now_str))\n",
    "res_multi.groupby('alpha')[eval_multi_list].mean().reset_index().to_csv('./data/out/ddim_multi_%s/ddim_multi_benefit_summary_%s.csv'%(date_str,now_str))\n"
   ]
  },
  {
   "cell_type": "code",
   "execution_count": null,
   "metadata": {
    "collapsed": true
   },
   "outputs": [],
   "source": [
    "res_summary_single = res.groupby('alpha')[eval_list].mean().reset_index()\n",
    "res_summary_multi = res_multi.groupby('alpha')[eval_multi_list].mean().reset_index()\n"
   ]
  },
  {
   "cell_type": "code",
   "execution_count": null,
   "metadata": {},
   "outputs": [],
   "source": []
  },
  {
   "cell_type": "code",
   "execution_count": null,
   "metadata": {},
   "outputs": [],
   "source": []
  }
 ],
 "metadata": {
  "kernelspec": {
   "display_name": "Python 3",
   "language": "python",
   "name": "python3"
  },
  "language_info": {
   "codemirror_mode": {
    "name": "ipython",
    "version": 3
   },
   "file_extension": ".py",
   "mimetype": "text/x-python",
   "name": "python",
   "nbconvert_exporter": "python",
   "pygments_lexer": "ipython3",
   "version": "3.6.1"
  }
 },
 "nbformat": 4,
 "nbformat_minor": 2
}
